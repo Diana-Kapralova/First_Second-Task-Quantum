{
 "cells": [
  {
   "cell_type": "markdown",
   "metadata": {},
   "source": [
    "## Task"
   ]
  },
  {
   "cell_type": "markdown",
   "metadata": {},
   "source": [
    "You have a positive integer number N as an input. Please write a program in Python 3 that calculates the sum in range 1 and N.\n",
    "\n",
    "* **Limitations:**\n",
    "    * N <= 10^25;\n",
    "    * Execution time: 0.1 seconds.\n",
    "\n",
    "* **Examples:**\n",
    "```\n",
    "   Input: 1 \n",
    "   Output: 1\n",
    "\n",
    "   Input: 3\n",
    "   Output: 6\n",
    "\n",
    "   Input 10:\n",
    "   Output: 55 \n",
    "```\n"
   ]
  },
  {
   "cell_type": "markdown",
   "metadata": {},
   "source": [
    "## 1.Using FOR loop - use it because of task name"
   ]
  },
  {
   "cell_type": "code",
   "execution_count": 1,
   "metadata": {},
   "outputs": [],
   "source": [
    "# Import time for measure limit\n",
    "import time"
   ]
  },
  {
   "cell_type": "code",
   "execution_count": 2,
   "metadata": {},
   "outputs": [
    {
     "name": "stdin",
     "output_type": "stream",
     "text": [
      "Enter number of integers:  1000\n"
     ]
    }
   ],
   "source": [
    "n = int(float(input(\"Enter number of integers: \"))) # float need for converting string numbers with 'e' (ex. 10e25 in Example limitation) and after that int"
   ]
  },
  {
   "cell_type": "code",
   "execution_count": 3,
   "metadata": {},
   "outputs": [],
   "source": [
    "# Initialize numbers for range\n",
    "start_number = 1\n",
    "range_numbers = range(start_number, n + 1) # + 1 because in Python end border not include"
   ]
  },
  {
   "cell_type": "code",
   "execution_count": 4,
   "metadata": {},
   "outputs": [
    {
     "name": "stdout",
     "output_type": "stream",
     "text": [
      "Sum of numbers =  500500\n",
      "It takes 0.0006989209996390855 s\n"
     ]
    }
   ],
   "source": [
    "start_time = time.perf_counter()\n",
    "sum_all = 0\n",
    "for k in range_numbers:\n",
    "    sum_all += k\n",
    "end_time = time.perf_counter()\n",
    "print('Sum of numbers = ', sum_all)\n",
    "print('It takes', end_time-start_time, 's')"
   ]
  },
  {
   "cell_type": "markdown",
   "metadata": {},
   "source": [
    "## 2. Arithmetic progression(Gauss solution) - the fastes method, when we have long range of numbers\n",
    "An arithmetic progression or arithmetic sequence (AP) is a sequence of numbers such that the difference between the consecutive terms is constant. For instance, the sequence 5, 7, 9, 11, 13, 15, . . . is an arithmetic progression with a common difference of 2. \n",
    "\n",
    "Equation for sum of arithmetic progression:\n",
    "\n",
    "$S_{n} = n\\frac{a_{1} + a_{n}}{2} $\n",
    "\n",
    "$n$ - number of elements in range,\n",
    "$a_{1}$ - first element in range,\n",
    "$a_{n}$ - last element in range\n",
    "\n",
    "We can use this formula for calculating sum of numbers in range 1 to N"
   ]
  },
  {
   "cell_type": "code",
   "execution_count": 5,
   "metadata": {},
   "outputs": [
    {
     "name": "stdout",
     "output_type": "stream",
     "text": [
      "Sum of numbers =  500500\n",
      "It takes 0.00031641500027035363 s\n"
     ]
    }
   ],
   "source": [
    "start_time = time.perf_counter()\n",
    "S = int(n*(range_numbers[0] + range_numbers[-1])/2)\n",
    "end_time = time.perf_counter()\n",
    "print('Sum of numbers = ', S)\n",
    "\n",
    "print('It takes', end_time-start_time, 's')"
   ]
  },
  {
   "cell_type": "markdown",
   "metadata": {},
   "source": [
    "## 3. Only sum function - for comparision"
   ]
  },
  {
   "cell_type": "code",
   "execution_count": 6,
   "metadata": {},
   "outputs": [
    {
     "name": "stdout",
     "output_type": "stream",
     "text": [
      "Sum of numbers =  500500\n",
      "It takes 0.0005697249998775078 s\n"
     ]
    }
   ],
   "source": [
    "start_time = time.perf_counter()\n",
    "sum_all = sum(range_numbers)\n",
    "end_time = time.perf_counter()\n",
    "print('Sum of numbers = ', S)\n",
    "print('It takes', end_time-start_time, 's')"
   ]
  },
  {
   "cell_type": "code",
   "execution_count": null,
   "metadata": {},
   "outputs": [],
   "source": []
  }
 ],
 "metadata": {
  "kernelspec": {
   "display_name": "Python 3",
   "language": "python",
   "name": "python3"
  },
  "language_info": {
   "codemirror_mode": {
    "name": "ipython",
    "version": 3
   },
   "file_extension": ".py",
   "mimetype": "text/x-python",
   "name": "python",
   "nbconvert_exporter": "python",
   "pygments_lexer": "ipython3",
   "version": "3.8.5"
  }
 },
 "nbformat": 4,
 "nbformat_minor": 4
}
