{
 "cells": [
  {
   "cell_type": "markdown",
   "metadata": {},
   "source": [
    "# Task\n",
    "You have a matrix MxN that represents a map. There are 2 possible states on the map: 1 - islands, 0 - ocean. Your task is to calculate the number of islands in the most effective way. Please write code in Python 3.\n",
    "\n",
    "Inputs:\n",
    "M N\n",
    "Matrix\n",
    "\n",
    "Examples:\n",
    "```\n",
    "Input:\n",
    "3 3\n",
    "0 1 0\n",
    "0 0 0\n",
    "0 1 1\n",
    "Output: 2\n",
    "```\n",
    "------------\n",
    "```\n",
    "Input:\n",
    "3 4 \n",
    "0 0 0 1\n",
    "0 0 1 0\n",
    "0 1 0 0\n",
    "Output: 3\n",
    "```\n",
    "------------\n",
    "```\n",
    "Input:\n",
    "3 4\n",
    "0 0 0 1\n",
    "0 0 1 1\n",
    "0 1 0 1\n",
    "Output: 2\n",
    "```\n"
   ]
  },
  {
   "cell_type": "markdown",
   "metadata": {},
   "source": [
    "## 1. Input our matrix shape and matrix itself"
   ]
  },
  {
   "cell_type": "code",
   "execution_count": 101,
   "metadata": {},
   "outputs": [
    {
     "name": "stdin",
     "output_type": "stream",
     "text": [
      "Enter shape of matrix in row,column order: 3 3\n",
      " 0 1 0\n",
      " 0 0 0\n",
      " 0 1 1\n"
     ]
    }
   ],
   "source": [
    "shape_matrix = input('Enter shape of matrix in row,column order:')\n",
    "rows, columns = int(shape_matrix.split()[0]), int(shape_matrix.split()[1])\n",
    "matrix = []\n",
    "\n",
    "for i in range(rows):\n",
    "    inp = [int(y) for y in input().split()]\n",
    "    k = len(inp)\n",
    "    if k != columns:\n",
    "        print('Looks into shapes, please. Columns =', columns, ', you have', k)\n",
    "        break\n",
    "    else:\n",
    "        matrix.append(inp)\n",
    "    "
   ]
  },
  {
   "cell_type": "markdown",
   "metadata": {},
   "source": [
    "## 2. DFS algorithm\n",
    "The recursive method of the Depth-First Search algorithm is implemented using stack. A standard Depth-First Search implementation puts every vertex of the graph into one in all 2 categories: 1) Visited 2) Not Visited. The only purpose of this algorithm is to visit all the vertex of the graph avoiding cycles.\n",
    "\n",
    "### CHECK IT AND REWRITE\n",
    "The DSF algorithm follows as:\n",
    "\n",
    "  1. We will start by putting any one of the graph's vertex on top of the stack.\n",
    "  2. After that take the top item of the stack and add it to the visited list of the vertex.\n",
    "  3. Next, create a list of that adjacent node of the vertex. Add the ones which aren't in the visited list of vertexes to the top of the stack.\n",
    "  4. Lastly, keep repeating steps 2 and 3 until the stack is empty.\n"
   ]
  },
  {
   "cell_type": "code",
   "execution_count": 112,
   "metadata": {},
   "outputs": [],
   "source": [
    "class Graph:\n",
    " \n",
    "    def __init__(self, row, col, g):\n",
    "        self.row = row\n",
    "        self.col = col\n",
    "        self.graph = g\n",
    " \n",
    "    # A function to check if a given cell contained by graph\n",
    "    def is_contained(self, i, j, visited):\n",
    "        # row and columns number (negative or larger number then shape of matrix),\n",
    "        # and not contaioned in visited list\n",
    "        # cell with this numbers contained in graph and it is not zero\n",
    "        return (i >= 0 and i < self.row and\n",
    "                j >= 0 and j < self.col and (i, j)\n",
    "                not in visited and self.graph[i][j])\n",
    "             \n",
    " \n",
    "    # A function  DFS. \n",
    "    # It checked the 4 neighbours (top, bottom, left, right) \n",
    "    def DFS(self, i, j, visited):\n",
    " \n",
    "        # These arrays are used to get row and column numbers of \n",
    "        # 4 neighbours of a given cell\n",
    "        row_nbr = [-1, 0, 0, 1]\n",
    "        col_nbr = [0, -1, 1, 0]\n",
    "         \n",
    "        # Add coordinates of given cell to visited\n",
    "        visited.append((i, j)) \n",
    " \n",
    "        # Recursion for all connected neighbours\n",
    "        for k in range(4):\n",
    "            if self.is_contained(i + row_nbr[k], j + col_nbr[k], visited):\n",
    "                self.DFS(i + row_nbr[k], j + col_nbr[k], visited)\n",
    " \n",
    " \n",
    "    # The main function that returns count of islands\n",
    "    def count_islands(self):\n",
    "       \n",
    "        # Initialize visited list\n",
    "        visited = []\n",
    " \n",
    "        # Initialize count as 0 and go through the all cells of given matrix\n",
    "        count = 0\n",
    "        for i in range(self.row):\n",
    "            for j in range(self.col):\n",
    "                # If a cell with value 1 is not visited yet,\n",
    "                # then new island found\n",
    "                if (i, j) not in visited and self.graph[i][j] == 1:\n",
    "                    # Visit all cells in this island\n",
    "                    # and increment island count\n",
    "                    self.DFS(i, j, visited)\n",
    "                    count += 1\n",
    " \n",
    "        return count"
   ]
  },
  {
   "cell_type": "code",
   "execution_count": 114,
   "metadata": {},
   "outputs": [
    {
     "name": "stdout",
     "output_type": "stream",
     "text": [
      "Number of islands is: 2\n"
     ]
    }
   ],
   "source": [
    "row = len(matrix)\n",
    "col = len(matrix[0])\n",
    " \n",
    "g = Graph(row, col, matrix)\n",
    " \n",
    "print (\"Number of islands is:\", g.count_islands())"
   ]
  }
 ],
 "metadata": {
  "kernelspec": {
   "display_name": "Python 3",
   "language": "python",
   "name": "python3"
  },
  "language_info": {
   "codemirror_mode": {
    "name": "ipython",
    "version": 3
   },
   "file_extension": ".py",
   "mimetype": "text/x-python",
   "name": "python",
   "nbconvert_exporter": "python",
   "pygments_lexer": "ipython3",
   "version": "3.8.5"
  }
 },
 "nbformat": 4,
 "nbformat_minor": 4
}
